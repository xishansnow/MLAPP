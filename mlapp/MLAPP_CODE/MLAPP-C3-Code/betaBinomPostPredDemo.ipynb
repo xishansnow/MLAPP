{
 "cells": [
  {
   "cell_type": "code",
   "execution_count": 19,
   "metadata": {},
   "outputs": [],
   "source": [
    "from scipy.special import beta\n",
    "import numpy as np\n",
    "import matplotlib.pyplot as plt\n",
    "plt.rcParams['figure.figsize']=(15,5)"
   ]
  },
  {
   "cell_type": "code",
   "execution_count": 20,
   "metadata": {},
   "outputs": [],
   "source": [
    "a =2;b=2    # 先验分布中的伪计数\n",
    "N1 = 3;N0 = 17   # 观察到的实验结果\n",
    "M = 10     # 需要预测的实验次数 ，请参考文中的字母表达"
   ]
  },
  {
   "cell_type": "code",
   "execution_count": 24,
   "metadata": {},
   "outputs": [
    {
     "data": {
      "text/plain": [
       "Text(0.5,0,'(b)')"
      ]
     },
     "execution_count": 24,
     "metadata": {},
     "output_type": "execute_result"
    },
    {
     "data": {
      "image/png": "[encoded data removed]",
      "text/plain": [
       "<Figure size 1080x360 with 2 Axes>"
      ]
     },
     "metadata": {
      "needs_background": "light"
     },
     "output_type": "display_data"
    }
   ],
   "source": [
    "# 使用贝叶斯模型平均进行预测\n",
    "ax1 = plt.subplot(121)\n",
    "ax2 = plt.subplot(122)\n",
    "a = a+N1;b=b+N0\n",
    "result = np.empty(M+1)\n",
    "for x in range(M+1):\n",
    "    result[x]=np.math.factorial(M)/(np.math.factorial(x)*np.math.factorial(M-x))* \\\n",
    "    (beta(x+a,M-x+b)/beta(a,b))\n",
    "ax1.vlines(np.arange(M+1),0,result,colors='blue',linewidth=15)\n",
    "ax1.set_ylim((0,0.3))\n",
    "ax1.set_xlabel('(a)')\n",
    "\n",
    "# 基于最大后验估计的点估计\n",
    "plugin = (a-1)/(a+b-2)\n",
    "result_2 = np.empty(M+1)\n",
    "for x in range(M+1):\n",
    "    result_2[x]= np.math.factorial(M)/(np.math.factorial(x)*np.math.factorial(M-x))*np.power(plugin,x)*np.power(1-plugin,M-x)\n",
    "ax2.vlines(np.arange(M+1),0,result_2,colors='blue',linewidth=15)\n",
    "ax2.set_ylim((0,0.3))\n",
    "ax2.set_xlabel('(b)')\n"
   ]
  },
  {
   "cell_type": "code",
   "execution_count": null,
   "metadata": {},
   "outputs": [],
   "source": []
  }
 ],
 "metadata": {
  "kernelspec": {
   "display_name": "Python 3",
   "language": "python",
   "name": "python3"
  },
  "language_info": {
   "codemirror_mode": {
    "name": "ipython",
    "version": 3
   },
   "file_extension": ".py",
   "mimetype": "text/x-python",
   "name": "python",
   "nbconvert_exporter": "python",
   "pygments_lexer": "ipython3",
   "version": "3.5.2"
  }
 },
 "nbformat": 4,
 "nbformat_minor": 2
}
