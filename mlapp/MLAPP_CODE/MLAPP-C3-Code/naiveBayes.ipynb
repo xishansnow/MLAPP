{
 "cells": [
  {
   "cell_type": "code",
   "execution_count": 112,
   "metadata": {},
   "outputs": [],
   "source": [
    "import numpy as np\n",
    "import scipy.io as sio\n",
    "import matplotlib.pyplot as plt\n",
    "%matplotlib inline\n",
    "plt.rcParams['figure.figsize']=(15,5)\n",
    "import pandas as pd"
   ]
  },
  {
   "cell_type": "code",
   "execution_count": 8,
   "metadata": {},
   "outputs": [
    {
     "name": "stdout",
     "output_type": "stream",
     "text": [
      "<class 'scipy.sparse.csc.csc_matrix'> (900, 600)\n",
      "<class 'numpy.ndarray'> (900, 1)\n"
     ]
    }
   ],
   "source": [
    "data_file = 'XwindowsDocData.mat'\n",
    "load_data = sio.loadmat(data_file)\n",
    "X_train=load_data['xtrain']\n",
    "print(type(X_train),X_train.shape)\n",
    "y_train=load_data['ytrain']\n",
    "print(type(y_train),y_train.shape)"
   ]
  },
  {
   "cell_type": "code",
   "execution_count": 16,
   "metadata": {},
   "outputs": [],
   "source": [
    "# 获取总共有多少个类\n",
    "C = np.unique(y_train)"
   ]
  },
  {
   "cell_type": "code",
   "execution_count": 83,
   "metadata": {},
   "outputs": [
    {
     "name": "stdout",
     "output_type": "stream",
     "text": [
      "[[0.00442478 0.00221239 0.00663717 ... 0.00221239 0.00442478 0.02433628]\n",
      " [1.31028224 1.31028224 1.31028224 ... 1.31207097 1.31207097 1.30549658]]\n",
      "[0.5        1.16884762]\n",
      "[[0.00442478 0.00221239 0.00663717 ... 0.00221239 0.00442478 0.02433628]\n",
      " [0.01106195 0.01106195 0.01106195 ... 0.00442478 0.00442478 0.02876106]]\n",
      "[0.5 0.5]\n"
     ]
    }
   ],
   "source": [
    "pseudoCount = 1  # 伪计数为1\n",
    "N_train,D = X_train.shape\n",
    "# 初始化参数矩阵theta和类先验概率\n",
    "theta = np.empty((len(C),D))\n",
    "c_prior = np.empty(len(C))\n",
    "# 对X_train进行统计\n",
    "for c in C:\n",
    "    XX = X_train[y_train.flatten()==c]   # 获取属于c的所有样本\n",
    "    Non = np.sum(XX,0)           # 统计每个特征为1的数量\n",
    "    Noff = XX.shape[0]-Non\n",
    "    theta[c-1,:]=(Non+pseudoCount)/(Non+Noff+2*pseudoCount)\n",
    "    c_prior[c-1]= XX.shape[0]/N_train\n",
    "    # print(Non.shape,Noff.shape)\n",
    "    # print(Non.shape)\n",
    "    # print(XX.shape)\n",
    "    # print(c_pro)\n",
    "    print(theta)\n",
    "    print(c_prior)\n"
   ]
  },
  {
   "cell_type": "code",
   "execution_count": 141,
   "metadata": {},
   "outputs": [
    {
     "data": {
      "text/plain": [
       "Text(0.5,1,'p(xj=1|y=2)')"
      ]
     },
     "execution_count": 141,
     "metadata": {},
     "output_type": "execute_result"
    },
    {
     "data": {
      "image/png": "[encoded data removed]",
      "text/plain": [
       "<Figure size 1080x360 with 2 Axes>"
      ]
     },
     "metadata": {
      "needs_background": "light"
     },
     "output_type": "display_data"
    }
   ],
   "source": [
    "ax1 = plt.subplot(121)\n",
    "ax1.vlines(np.arange(theta.shape[-1]),0,theta[0,:],colors='blue')\n",
    "ax1.set_ylim(0,1)\n",
    "ax1.set_title('p(xj=1|y=1)')\n",
    "ax2 = plt.subplot(122)\n",
    "ax2.vlines(np.arange(theta.shape[-1]),0,theta[1,:],colors='blue')\n",
    "ax2.set_ylim(0,1)\n",
    "ax2.set_title('p(xj=1|y=2)')"
   ]
  },
  {
   "cell_type": "code",
   "execution_count": 56,
   "metadata": {},
   "outputs": [
    {
     "name": "stdout",
     "output_type": "stream",
     "text": [
      "(900, 600)\n"
     ]
    }
   ],
   "source": [
    "X_test = load_data['xtest'].toarray()\n",
    "print(X_test.shape)\n",
    "y_test = load_data['ytest']"
   ]
  },
  {
   "cell_type": "code",
   "execution_count": 81,
   "metadata": {},
   "outputs": [
    {
     "name": "stdout",
     "output_type": "stream",
     "text": [
      "(2, 600)\n"
     ]
    }
   ],
   "source": [
    "Ntest = X_test.shape[0]\n",
    "logPrior = np.log(c_prior)\n",
    "logPost = np.empty((len(C),Ntest))\n",
    "logTrue = np.log(theta)\n",
    "logTrueNot = np.log(1-theta)\n",
    "XtestNot = 1-X_test\n",
    "XtrainNot = 1-X_train.toarray()\n",
    "print(logTrue.shape)"
   ]
  },
  {
   "cell_type": "code",
   "execution_count": 82,
   "metadata": {},
   "outputs": [
    {
     "name": "stdout",
     "output_type": "stream",
     "text": [
      "(900,)\n",
      "(900,)\n",
      "(900,)\n",
      "(900,)\n",
      "[[-41.18813634 -23.01671991 -71.89830658 ... -43.85026596 -26.02082748\n",
      "  -39.14087707]\n",
      " [-46.14089735 -27.50579873 -79.7469371  ... -38.79526696 -22.47443335\n",
      "  -40.55321972]]\n"
     ]
    },
    {
     "data": {
      "text/plain": [
       "0.18666666666666665"
      ]
     },
     "execution_count": 82,
     "metadata": {},
     "output_type": "execute_result"
    }
   ],
   "source": [
    "for c in C:\n",
    "    L_true = np.dot(logTrue[c-1,:],X_test.T)\n",
    "    print(L_true.shape)\n",
    "    L_false = np.dot(logTrueNot[c-1,:],XtestNot.T)\n",
    "    print(L_false.shape)\n",
    "    logPost[c-1,:]=L_true+L_false+logPrior[c-1]\n",
    "print(logPost)\n",
    "y_hat = np.argmax(logPost,0)+1\n",
    "1-y_hat[y_hat==y_test.flatten()].size/y_hat.size"
   ]
  },
  {
   "cell_type": "code",
   "execution_count": 88,
   "metadata": {},
   "outputs": [
    {
     "name": "stdout",
     "output_type": "stream",
     "text": [
      "(600,)\n"
     ]
    }
   ],
   "source": [
    "# 求取MI\n",
    "theta_j = np.dot(c_prior[np.newaxis,:],theta)\n",
    "I=np.empty((len(C),D))\n",
    "for c in C:\n",
    "    I[c-1,:]=theta[c-1,:]*c_prior[c-1]*np.log(theta[c-1,:]/theta_j)+ \\\n",
    "    (1-theta[c-1,:])*c_prior[c-1]*np.log((1-theta[c-1,:])/(1-theta_j))\n",
    "MI = np.sum(I,0)\n",
    "print(MI.shape)"
   ]
  },
  {
   "cell_type": "code",
   "execution_count": 95,
   "metadata": {},
   "outputs": [
    {
     "data": {
      "text/plain": [
       "numpy.ndarray"
      ]
     },
     "execution_count": 95,
     "metadata": {},
     "output_type": "execute_result"
    }
   ],
   "source": [
    "vocab = load_data['vocab']\n",
    "type(vocab)"
   ]
  },
  {
   "cell_type": "code",
   "execution_count": 139,
   "metadata": {},
   "outputs": [
    {
     "data": {
      "text/html": [
       "<div>\n",
       "<style scoped>\n",
       "    .dataframe tbody tr th:only-of-type {\n",
       "        vertical-align: middle;\n",
       "    }\n",
       "\n",
       "    .dataframe tbody tr th {\n",
       "        vertical-align: top;\n",
       "    }\n",
       "\n",
       "    .dataframe thead th {\n",
       "        text-align: right;\n",
       "    }\n",
       "</style>\n",
       "<table border=\"1\" class=\"dataframe\">\n",
       "  <thead>\n",
       "    <tr style=\"text-align: right;\">\n",
       "      <th></th>\n",
       "      <th>class1</th>\n",
       "      <th>prob</th>\n",
       "      <th>class2</th>\n",
       "      <th>prob</th>\n",
       "      <th>highest MI</th>\n",
       "      <th>MI</th>\n",
       "    </tr>\n",
       "  </thead>\n",
       "  <tbody>\n",
       "    <tr>\n",
       "      <th>0</th>\n",
       "      <td>subject</td>\n",
       "      <td>0.997788</td>\n",
       "      <td>subject</td>\n",
       "      <td>0.997788</td>\n",
       "      <td>windows</td>\n",
       "      <td>0.149046</td>\n",
       "    </tr>\n",
       "    <tr>\n",
       "      <th>1</th>\n",
       "      <td>this</td>\n",
       "      <td>0.639381</td>\n",
       "      <td>windows</td>\n",
       "      <td>0.639381</td>\n",
       "      <td>microsoft</td>\n",
       "      <td>0.066171</td>\n",
       "    </tr>\n",
       "    <tr>\n",
       "      <th>2</th>\n",
       "      <td>with</td>\n",
       "      <td>0.539823</td>\n",
       "      <td>this</td>\n",
       "      <td>0.539823</td>\n",
       "      <td>dos</td>\n",
       "      <td>0.063858</td>\n",
       "    </tr>\n",
       "    <tr>\n",
       "      <th>3</th>\n",
       "      <td>but</td>\n",
       "      <td>0.537611</td>\n",
       "      <td>with</td>\n",
       "      <td>0.537611</td>\n",
       "      <td>motif</td>\n",
       "      <td>0.054201</td>\n",
       "    </tr>\n",
       "    <tr>\n",
       "      <th>4</th>\n",
       "      <td>you</td>\n",
       "      <td>0.517699</td>\n",
       "      <td>but</td>\n",
       "      <td>0.517699</td>\n",
       "      <td>window</td>\n",
       "      <td>0.046677</td>\n",
       "    </tr>\n",
       "  </tbody>\n",
       "</table>\n",
       "</div>"
      ],
      "text/plain": [
       "    class1      prob   class2      prob highest MI        MI\n",
       "0  subject  0.997788  subject  0.997788    windows  0.149046\n",
       "1     this  0.639381  windows  0.639381  microsoft  0.066171\n",
       "2     with  0.539823     this  0.539823        dos  0.063858\n",
       "3      but  0.537611     with  0.537611      motif  0.054201\n",
       "4      you  0.517699      but  0.517699     window  0.046677"
      ]
     },
     "execution_count": 139,
     "metadata": {},
     "output_type": "execute_result"
    }
   ],
   "source": [
    "cols=['class1','prob','class2','prob','highest MI','MI']\n",
    "first_col = [element[0] for element in vocab[np.argsort(-theta[0,:])[0:5]].flatten()]\n",
    "second_col = -np.sort(-theta[0,:])[0:5]\n",
    "third_col = [element[0] for element in vocab[np.argsort(-theta[1,:])[0:5]].flatten()]\n",
    "forth_col = -np.sort(-theta[1,:])[0:5]\n",
    "fivth_col = [element[0] for element in vocab[np.argsort(-MI)[0:5]].flatten()]\n",
    "sixth_col = -np.sort(-MI)[0:5]\n",
    "df = pd.DataFrame({'class1':first_col,'prob':second_col,'class2':third_col,'prob':forth_col,\n",
    "                   'highest MI':fivth_col,'MI':sixth_col}\n",
    ")\n",
    "df.loc[:,cols]"
   ]
  },
  {
   "cell_type": "code",
   "execution_count": null,
   "metadata": {},
   "outputs": [],
   "source": []
  }
 ],
 "metadata": {
  "kernelspec": {
   "display_name": "Python 3",
   "language": "python",
   "name": "python3"
  },
  "language_info": {
   "codemirror_mode": {
    "name": "ipython",
    "version": 3
   },
   "file_extension": ".py",
   "mimetype": "text/x-python",
   "name": "python",
   "nbconvert_exporter": "python",
   "pygments_lexer": "ipython3",
   "version": "3.5.2"
  }
 },
 "nbformat": 4,
 "nbformat_minor": 2
}
